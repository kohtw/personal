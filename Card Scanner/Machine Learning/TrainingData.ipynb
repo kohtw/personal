{
 "cells": [
  {
   "cell_type": "code",
   "execution_count": null,
   "id": "a7f865f5",
   "metadata": {},
   "outputs": [],
   "source": [
    "# select 1000 random cards from datasets/images and save them to a new directory\n",
    "import os\n",
    "import random\n",
    "\n",
    "# Create a new directory to save the selected cards\n",
    "output_dir = \"datasets/testing_cards\"\n",
    "os.makedirs(output_dir, exist_ok=True)\n",
    "\n",
    "# Get a list of all image files in the datasets/images directory\n",
    "image_dir = \"datasets/cards\"\n",
    "all_images = [f for f in os.listdir(image_dir) if os.path.isfile(os.path.join(image_dir, f))]\n",
    "\n",
    "# Randomly select 1000 images\n",
    "selected_images = random.sample(all_images, 1000)\n",
    "\n",
    "# Copy the selected images to the new directory\n",
    "for i in range(1000):\n",
    "    src_path = os.path.join(image_dir, selected_images[i])\n",
    "    dst_path = os.path.join(output_dir, str(i) + \".jpg\")\n",
    "    with open(src_path, 'rb') as src_file:\n",
    "        with open(dst_path, 'wb') as dst_file:\n",
    "            dst_file.write(src_file.read())"
   ]
  },
  {
   "cell_type": "code",
   "execution_count": 21,
   "id": "af6153c1",
   "metadata": {},
   "outputs": [
    {
     "name": "stdout",
     "output_type": "stream",
     "text": [
      "Loaded 100 random photos:\n",
      "          photo_id                                    photo_image_url\n",
      "6868   6Qo7dWR2wZM  https://images.unsplash.com/photo-158205618674...\n",
      "24016  1DPIP44atys  https://images.unsplash.com/photo-141919321743...\n",
      "9668   P_pjzMeIbj8  https://images.unsplash.com/photo-1558966151-c...\n",
      "13640  Y1H182HRPEw  https://images.unsplash.com/photo-1544989387-1...\n",
      "14018  tnEdvYk3IOw  https://images.unsplash.com/photo-144708252926...\n",
      "Successfully downloaded 100/100 images to datasets/background\n"
     ]
    }
   ],
   "source": [
    "import pandas as pd\n",
    "from pathlib import Path\n",
    "import glob\n",
    "import random\n",
    "import os\n",
    "import requests\n",
    "from tqdm import tqdm  # for progress bar\n",
    "\n",
    "# Set your path\n",
    "path = r'C:\\Users\\tingw\\Downloads\\unsplash-research-dataset-lite-latest'\n",
    "\n",
    "# Find the photos file (handles .tsv or .tsv.gz)\n",
    "photo_files = glob.glob(str(Path(path) / \"photos.tsv*\"))\n",
    "\n",
    "if not photo_files:\n",
    "    raise FileNotFoundError(f\"No photos.tsv file found in {path}\")\n",
    "\n",
    "# Load the photos data\n",
    "photos_df = pd.read_csv(photo_files[0], sep='\\t')\n",
    "\n",
    "# Get 100 random samples\n",
    "random_samples = photos_df.sample(n=100, random_state=42)  # random_state for reproducibility\n",
    "\n",
    "# Display the result\n",
    "print(f\"Loaded {len(random_samples)} random photos:\")\n",
    "print(random_samples[['photo_id', 'photo_image_url']].head())  # Show key columns\n",
    "\n",
    "# Create output directory\n",
    "output_dir = \"datasets/background\"\n",
    "os.makedirs(output_dir, exist_ok=True)\n",
    "\n",
    "# Download function with error handling\n",
    "def download_image(url, filepath):\n",
    "    try:\n",
    "        response = requests.get(url, stream=True, timeout=10)\n",
    "        response.raise_for_status()\n",
    "        with open(filepath, 'wb') as f:\n",
    "            for chunk in response.iter_content(1024):\n",
    "                f.write(chunk)\n",
    "        return True\n",
    "    except Exception as e:\n",
    "        print(f\"Failed to download {url}: {e}\")\n",
    "        return False\n",
    "\n",
    "# Download the images with progress bar\n",
    "success_count = 0\n",
    "for i in range(100):\n",
    "    row = random_samples.iloc[i]\n",
    "    image_url = row['photo_image_url']  # Use the URL column\n",
    "    dst_path = os.path.join(output_dir, f\"{i}.jpg\")\n",
    "    if download_image(image_url, dst_path):\n",
    "        success_count += 1\n",
    "\n",
    "print(f\"Successfully downloaded {success_count}/{len(random_samples)} images to {output_dir}\")"
   ]
  },
  {
   "cell_type": "code",
   "execution_count": null,
   "id": "63295f8d",
   "metadata": {},
   "outputs": [
    {
     "name": "stdout",
     "output_type": "stream",
     "text": [
      "Found 100 backgrounds and 1000 cards\n"
     ]
    },
    {
     "name": "stderr",
     "output_type": "stream",
     "text": [
      "  0%|          | 0/10 [00:00<?, ?it/s]\n"
     ]
    },
    {
     "ename": "ValueError",
     "evalue": "operands could not be broadcast together with shapes (3032,4048,3) (4048,3032,1) ",
     "output_type": "error",
     "traceback": [
      "\u001b[1;31m---------------------------------------------------------------------------\u001b[0m",
      "\u001b[1;31mValueError\u001b[0m                                Traceback (most recent call last)",
      "Cell \u001b[1;32mIn[31], line 133\u001b[0m\n\u001b[0;32m    131\u001b[0m     kernel \u001b[38;5;241m=\u001b[39m cv2\u001b[38;5;241m.\u001b[39mgetGaussianKernel(cols, cols\u001b[38;5;241m/\u001b[39m\u001b[38;5;241m3\u001b[39m) \u001b[38;5;241m*\u001b[39m cv2\u001b[38;5;241m.\u001b[39mgetGaussianKernel(rows, rows\u001b[38;5;241m/\u001b[39m\u001b[38;5;241m3\u001b[39m)\u001b[38;5;241m.\u001b[39mT\n\u001b[0;32m    132\u001b[0m     mask \u001b[38;5;241m=\u001b[39m kernel \u001b[38;5;241m/\u001b[39m kernel\u001b[38;5;241m.\u001b[39mmax()\n\u001b[1;32m--> 133\u001b[0m     bg \u001b[38;5;241m=\u001b[39m (\u001b[43mbg\u001b[49m\u001b[43m \u001b[49m\u001b[38;5;241;43m*\u001b[39;49m\u001b[43m \u001b[49m\u001b[43m(\u001b[49m\u001b[43mmask\u001b[49m\u001b[43m[\u001b[49m\u001b[38;5;241;43m.\u001b[39;49m\u001b[38;5;241;43m.\u001b[39;49m\u001b[38;5;241;43m.\u001b[39;49m\u001b[43m,\u001b[49m\u001b[43m \u001b[49m\u001b[43mnp\u001b[49m\u001b[38;5;241;43m.\u001b[39;49m\u001b[43mnewaxis\u001b[49m\u001b[43m]\u001b[49m\u001b[43m \u001b[49m\u001b[38;5;241;43m*\u001b[39;49m\u001b[43m \u001b[49m\u001b[38;5;241;43m0.8\u001b[39;49m\u001b[43m \u001b[49m\u001b[38;5;241;43m+\u001b[39;49m\u001b[43m \u001b[49m\u001b[38;5;241;43m0.2\u001b[39;49m\u001b[43m)\u001b[49m)\u001b[38;5;241m.\u001b[39mastype(np\u001b[38;5;241m.\u001b[39muint8)\n\u001b[0;32m    135\u001b[0m     cv2\u001b[38;5;241m.\u001b[39mimwrite(\u001b[38;5;124mf\u001b[39m\u001b[38;5;124m\"\u001b[39m\u001b[38;5;124mimages/train/\u001b[39m\u001b[38;5;132;01m{\u001b[39;00mi\u001b[38;5;132;01m}\u001b[39;00m\u001b[38;5;124m.jpg\u001b[39m\u001b[38;5;124m\"\u001b[39m, bg)\n\u001b[0;32m    137\u001b[0m \u001b[38;5;28mprint\u001b[39m(\u001b[38;5;124m\"\u001b[39m\u001b[38;5;124mSynthetic dataset generation complete!\u001b[39m\u001b[38;5;124m\"\u001b[39m)\n",
      "\u001b[1;31mValueError\u001b[0m: operands could not be broadcast together with shapes (3032,4048,3) (4048,3032,1) "
     ]
    },
    {
     "ename": "",
     "evalue": "",
     "output_type": "error",
     "traceback": [
      "\u001b[1;31mThe Kernel crashed while executing code in the current cell or a previous cell. \n",
      "\u001b[1;31mPlease review the code in the cell(s) to identify a possible cause of the failure. \n",
      "\u001b[1;31mClick <a href='https://aka.ms/vscodeJupyterKernelCrash'>here</a> for more info. \n",
      "\u001b[1;31mView Jupyter <a href='command:jupyter.viewOutput'>log</a> for further details."
     ]
    }
   ],
   "source": [
    "import cv2\n",
    "import numpy as np\n",
    "import os\n",
    "from tqdm import tqdm\n",
    "\n",
    "# Create output directory\n",
    "os.makedirs(\"images/train\", exist_ok=True)\n",
    "\n",
    "# Get list of available files\n",
    "backgrounds = [f\"datasets/background/{f}\" for f in os.listdir(\"datasets/background\") if f.endswith((\".jpg\", \".png\"))]\n",
    "cards = [f\"datasets/testing_cards/{f}\" for f in os.listdir(\"datasets/testing_cards\") if f.endswith((\".jpg\", \".png\"))]\n",
    "\n",
    "print(f\"Found {len(backgrounds)} backgrounds and {len(cards)} cards\")\n",
    "\n",
    "def apply_transformations(image, max_perspective=20, max_rotation=30):\n",
    "    h, w = image.shape[:2]\n",
    "    \n",
    "    # Add padding to prevent edge clipping\n",
    "    pad_size = int(max(h, w) * 0.3)\n",
    "    image = cv2.copyMakeBorder(image, pad_size, pad_size, pad_size, pad_size, \n",
    "                             cv2.BORDER_CONSTANT, value=(0,0,0,0))\n",
    "    \n",
    "    # Apply perspective warp\n",
    "    if max_perspective > 0:\n",
    "        src_points = np.float32([[pad_size, pad_size], \n",
    "                               [w+pad_size, pad_size], \n",
    "                               [w+pad_size, h+pad_size], \n",
    "                               [pad_size, h+pad_size]])\n",
    "        \n",
    "        max_offset_x = int(w * max_perspective/100)\n",
    "        max_offset_y = int(h * max_perspective/100)\n",
    "        \n",
    "        dst_points = np.float32([\n",
    "            [pad_size + np.random.randint(-max_offset_x, max_offset_x), \n",
    "             pad_size + np.random.randint(-max_offset_y, max_offset_y)],\n",
    "            [w+pad_size - np.random.randint(-max_offset_x, max_offset_x), \n",
    "             pad_size + np.random.randint(-max_offset_y, max_offset_y)],\n",
    "            [w+pad_size - np.random.randint(-max_offset_x, max_offset_x), \n",
    "             h+pad_size - np.random.randint(-max_offset_y, max_offset_y)],\n",
    "            [pad_size + np.random.randint(-max_offset_x, max_offset_x), \n",
    "             h+pad_size - np.random.randint(-max_offset_y, max_offset_y)]\n",
    "        ])\n",
    "        \n",
    "        M = cv2.getPerspectiveTransform(src_points, dst_points)\n",
    "        image = cv2.warpPerspective(image, M, (w+2*pad_size, h+2*pad_size), \n",
    "                                  borderMode=cv2.BORDER_CONSTANT, borderValue=(0,0,0,0))\n",
    "    \n",
    "    # Apply rotation\n",
    "    if max_rotation > 0:\n",
    "        angle = np.random.uniform(-max_rotation, max_rotation)\n",
    "        M = cv2.getRotationMatrix2D((image.shape[1]//2, image.shape[0]//2), angle, 1.0)\n",
    "        image = cv2.warpAffine(image, M, (image.shape[1], image.shape[0]), \n",
    "                             flags=cv2.INTER_LINEAR, borderMode=cv2.BORDER_CONSTANT, \n",
    "                             borderValue=(0,0,0,0))\n",
    "    \n",
    "    # Find non-zero area and crop\n",
    "    if image.shape[2] == 4:\n",
    "        gray = image[:,:,3]\n",
    "    else:\n",
    "        gray = cv2.cvtColor(image, cv2.COLOR_BGR2GRAY)\n",
    "    \n",
    "    _, thresh = cv2.threshold(gray, 1, 255, cv2.THRESH_BINARY)\n",
    "    contours, _ = cv2.findContours(thresh, cv2.RETR_EXTERNAL, cv2.CHAIN_APPROX_SIMPLE)\n",
    "    \n",
    "    if contours:\n",
    "        cnt = max(contours, key=cv2.contourArea)\n",
    "        x,y,w,h = cv2.boundingRect(cnt)\n",
    "        image = image[y:y+h, x:x+w]\n",
    "    \n",
    "    return image\n",
    "\n",
    "for i in tqdm(range(10)):  # Generate 10 sample images\n",
    "    # Load background\n",
    "    bg_path = backgrounds[np.random.randint(0, len(backgrounds))]\n",
    "    bg = cv2.imread(bg_path)\n",
    "    if bg is None:\n",
    "        print(f\"Failed to load background: {bg_path}\")\n",
    "        continue\n",
    "    \n",
    "    # Resize background to minimum 1500x1200 to accommodate transformed cards\n",
    "    bg = cv2.resize(bg, (max(1500, bg.shape[1]), max(1200, bg.shape[0])))\n",
    "    \n",
    "    for _ in range(np.random.randint(2,5)): \n",
    "        card_path = cards[np.random.randint(0, len(cards))]\n",
    "        card_img = cv2.imread(card_path, cv2.IMREAD_UNCHANGED)\n",
    "        if card_img is None:\n",
    "            print(f\"Failed to load card: {card_path}\")\n",
    "            continue\n",
    "        \n",
    "        # Increase card size (1.0 to 2.0x)\n",
    "        scale_factor = np.random.uniform(1.0, 2.0)\n",
    "        card_img = cv2.resize(card_img, None, fx=scale_factor, fy=scale_factor, \n",
    "                            interpolation=cv2.INTER_LANCZOS4)\n",
    "        \n",
    "        # Create alpha channel if doesn't exist\n",
    "        if card_img.shape[2] == 3:\n",
    "            card_img = cv2.cvtColor(card_img, cv2.COLOR_BGR2BGRA)\n",
    "            card_img[:, :, 3] = 255\n",
    "        \n",
    "        # Apply transformations with edge preservation\n",
    "        card_img = apply_transformations(card_img, \n",
    "                                       max_perspective=np.random.uniform(10,20), \n",
    "                                       max_rotation=np.random.uniform(0,30))\n",
    "        \n",
    "        # Skip if transformation failed\n",
    "        if card_img.size == 0:\n",
    "            continue\n",
    "            \n",
    "        # Random position with safe margins\n",
    "        margin_x = int(card_img.shape[1] * 0.3)\n",
    "        margin_y = int(card_img.shape[0] * 0.3)\n",
    "        max_x = bg.shape[1] - card_img.shape[1] - margin_x\n",
    "        max_y = bg.shape[0] - card_img.shape[0] - margin_y\n",
    "        \n",
    "        if max_x <= margin_x or max_y <= margin_y:\n",
    "            continue\n",
    "            \n",
    "        x = np.random.randint(margin_x, max_x)\n",
    "        y = np.random.randint(margin_y, max_y)\n",
    "        \n",
    "        # Composite using alpha channel\n",
    "        if card_img.shape[2] == 4:\n",
    "            alpha = card_img[:, :, 3][..., np.newaxis]/255.0\n",
    "            roi = bg[y:y+card_img.shape[0], x:x+card_img.shape[1]]\n",
    "            bg[y:y+card_img.shape[0], x:x+card_img.shape[1]] = (roi * (1 - alpha) + card_img[:, :, :3] * alpha).astype(np.uint8)\n",
    "        else:\n",
    "            bg[y:y+card_img.shape[0], x:x+card_img.shape[1]] = card_img\n",
    "    \n",
    "    # Add slight vignette effect\n",
    "    rows, cols = bg.shape[:2]\n",
    "    kernel = cv2.getGaussianKernel(cols, cols/3) * cv2.getGaussianKernel(rows, rows/3).T\n",
    "    mask = kernel / kernel.max()\n",
    "    bg = (bg * (mask[..., np.newaxis] * 0.8 + 0.2)).astype(np.uint8)\n",
    "    \n",
    "    cv2.imwrite(f\"images/train/{i}.jpg\", bg)\n",
    "\n",
    "print(\"Synthetic dataset generation complete!\")"
   ]
  },
  {
   "cell_type": "code",
   "execution_count": null,
   "id": "dff74659",
   "metadata": {},
   "outputs": [
    {
     "data": {
      "application/vnd.microsoft.datawrangler.viewer.v0+json": {
       "columns": [
        {
         "name": "index",
         "rawType": "int64",
         "type": "integer"
        },
        {
         "name": "abilities",
         "rawType": "object",
         "type": "unknown"
        },
        {
         "name": "artist",
         "rawType": "object",
         "type": "string"
        },
        {
         "name": "ancientTrait",
         "rawType": "object",
         "type": "unknown"
        },
        {
         "name": "attacks",
         "rawType": "object",
         "type": "string"
        },
        {
         "name": "cardmarket",
         "rawType": "object",
         "type": "string"
        },
        {
         "name": "convertedRetreatCost",
         "rawType": "float64",
         "type": "float"
        },
        {
         "name": "evolvesFrom",
         "rawType": "object",
         "type": "string"
        },
        {
         "name": "flavorText",
         "rawType": "object",
         "type": "string"
        },
        {
         "name": "hp",
         "rawType": "float64",
         "type": "float"
        },
        {
         "name": "id",
         "rawType": "object",
         "type": "string"
        },
        {
         "name": "images",
         "rawType": "object",
         "type": "string"
        },
        {
         "name": "legalities",
         "rawType": "object",
         "type": "string"
        },
        {
         "name": "regulationMark",
         "rawType": "object",
         "type": "unknown"
        },
        {
         "name": "name",
         "rawType": "object",
         "type": "string"
        },
        {
         "name": "nationalPokedexNumbers",
         "rawType": "object",
         "type": "string"
        },
        {
         "name": "number",
         "rawType": "object",
         "type": "string"
        },
        {
         "name": "rarity",
         "rawType": "object",
         "type": "string"
        },
        {
         "name": "resistances",
         "rawType": "object",
         "type": "string"
        },
        {
         "name": "retreatCost",
         "rawType": "object",
         "type": "string"
        },
        {
         "name": "rules",
         "rawType": "object",
         "type": "unknown"
        },
        {
         "name": "set",
         "rawType": "object",
         "type": "string"
        },
        {
         "name": "subtypes",
         "rawType": "object",
         "type": "string"
        },
        {
         "name": "supertype",
         "rawType": "object",
         "type": "string"
        },
        {
         "name": "tcgplayer",
         "rawType": "object",
         "type": "string"
        },
        {
         "name": "types",
         "rawType": "object",
         "type": "string"
        },
        {
         "name": "weaknesses",
         "rawType": "object",
         "type": "string"
        }
       ],
       "conversionMethod": "pd.DataFrame",
       "ref": "73dbc8bf-ee61-4529-a674-445890f430f6",
       "rows": [
        [
         "0",
         null,
         "Kagemaru Himeno",
         null,
         "[{'name': 'Second Strike', 'cost': ['Metal', 'Metal', 'Colorless'], 'convertedEnergyCost': 3, 'damage': '40', 'text': 'If the Defending Pokémon already has any damage counters on it, this attack does 40 damage plus 40 more damage.'}, {'name': 'Guard Claw', 'cost': ['Metal', 'Metal', 'Colorless', 'Colorless'], 'convertedEnergyCost': 4, 'damage': '60', 'text': \"During your opponent's next turn, any damage done to Aggron by attacks is reduced by 20 (after applying Weakness and Resistance).\"}]",
         "{'url': 'https://prices.pokemontcg.io/cardmarket/hgss4-1', 'updatedAt': '2025/04/18', 'prices': {'averageSellPrice': 1.83, 'lowPrice': 0.4, 'trendPrice': 1.33, 'germanProLow': 0.0, 'suggestedPrice': 0.0, 'reverseHoloSell': 1.75, 'reverseHoloLow': 0.85, 'reverseHoloTrend': 3.52, 'lowPriceExPlus': 1.0, 'avg1': 1.99, 'avg7': 1.75, 'avg30': 2.04, 'reverseHoloAvg1': 1.49, 'reverseHoloAvg7': 2.54, 'reverseHoloAvg30': 3.49}}",
         "4.0",
         "Lairon",
         "You can tell its age by the length of its iron horns. It claims an entire mountain as its territory.",
         "140.0",
         "hgss4-1",
         "{'small': 'https://images.pokemontcg.io/hgss4/1.png', 'large': 'https://images.pokemontcg.io/hgss4/1_hires.png'}",
         "{'unlimited': 'Legal', 'expanded': None, 'standard': None}",
         null,
         "Aggron",
         "[306]",
         "1",
         "Rare Holo",
         "[{'type': 'Psychic', 'value': '-20'}]",
         "['Colorless', 'Colorless', 'Colorless', 'Colorless']",
         null,
         "{'id': 'hgss4', 'images': {'symbol': 'https://images.pokemontcg.io/hgss4/symbol.png', 'logo': 'https://images.pokemontcg.io/hgss4/logo.png'}, 'legalities': {'unlimited': 'Legal', 'expanded': None, 'standard': None}, 'name': 'HS—Triumphant', 'printedTotal': 102, 'ptcgoCode': 'TM', 'releaseDate': '2010/11/03', 'series': 'HeartGold & SoulSilver', 'total': 103, 'updatedAt': '2018/03/04 10:35:00'}",
         "['Stage 2']",
         "Pokémon",
         "{'url': 'https://prices.pokemontcg.io/tcgplayer/hgss4-1', 'updatedAt': '2025/04/18', 'prices': {'normal': None, 'holofoil': {'low': 2.0, 'mid': 2.99, 'high': 4.0, 'market': 2.32, 'directLow': None}, 'reverseHolofoil': {'low': 2.1, 'mid': 3.53, 'high': 4.0, 'market': 2.35, 'directLow': None}, 'firstEditionHolofoil': None, 'firstEditionNormal': None}}",
         "['Metal']",
         "[{'type': 'Fire', 'value': '×2'}]"
        ]
       ],
       "shape": {
        "columns": 26,
        "rows": 1
       }
      },
      "text/html": [
       "<div>\n",
       "<style scoped>\n",
       "    .dataframe tbody tr th:only-of-type {\n",
       "        vertical-align: middle;\n",
       "    }\n",
       "\n",
       "    .dataframe tbody tr th {\n",
       "        vertical-align: top;\n",
       "    }\n",
       "\n",
       "    .dataframe thead th {\n",
       "        text-align: right;\n",
       "    }\n",
       "</style>\n",
       "<table border=\"1\" class=\"dataframe\">\n",
       "  <thead>\n",
       "    <tr style=\"text-align: right;\">\n",
       "      <th></th>\n",
       "      <th>abilities</th>\n",
       "      <th>artist</th>\n",
       "      <th>ancientTrait</th>\n",
       "      <th>attacks</th>\n",
       "      <th>cardmarket</th>\n",
       "      <th>convertedRetreatCost</th>\n",
       "      <th>evolvesFrom</th>\n",
       "      <th>flavorText</th>\n",
       "      <th>hp</th>\n",
       "      <th>id</th>\n",
       "      <th>...</th>\n",
       "      <th>rarity</th>\n",
       "      <th>resistances</th>\n",
       "      <th>retreatCost</th>\n",
       "      <th>rules</th>\n",
       "      <th>set</th>\n",
       "      <th>subtypes</th>\n",
       "      <th>supertype</th>\n",
       "      <th>tcgplayer</th>\n",
       "      <th>types</th>\n",
       "      <th>weaknesses</th>\n",
       "    </tr>\n",
       "  </thead>\n",
       "  <tbody>\n",
       "    <tr>\n",
       "      <th>0</th>\n",
       "      <td>NaN</td>\n",
       "      <td>Kagemaru Himeno</td>\n",
       "      <td>NaN</td>\n",
       "      <td>[{'name': 'Second Strike', 'cost': ['Metal', '...</td>\n",
       "      <td>{'url': 'https://prices.pokemontcg.io/cardmark...</td>\n",
       "      <td>4.0</td>\n",
       "      <td>Lairon</td>\n",
       "      <td>You can tell its age by the length of its iron...</td>\n",
       "      <td>140.0</td>\n",
       "      <td>hgss4-1</td>\n",
       "      <td>...</td>\n",
       "      <td>Rare Holo</td>\n",
       "      <td>[{'type': 'Psychic', 'value': '-20'}]</td>\n",
       "      <td>['Colorless', 'Colorless', 'Colorless', 'Color...</td>\n",
       "      <td>NaN</td>\n",
       "      <td>{'id': 'hgss4', 'images': {'symbol': 'https://...</td>\n",
       "      <td>['Stage 2']</td>\n",
       "      <td>Pokémon</td>\n",
       "      <td>{'url': 'https://prices.pokemontcg.io/tcgplaye...</td>\n",
       "      <td>['Metal']</td>\n",
       "      <td>[{'type': 'Fire', 'value': '×2'}]</td>\n",
       "    </tr>\n",
       "  </tbody>\n",
       "</table>\n",
       "<p>1 rows × 26 columns</p>\n",
       "</div>"
      ],
      "text/plain": [
       "  abilities           artist ancientTrait  \\\n",
       "0       NaN  Kagemaru Himeno          NaN   \n",
       "\n",
       "                                             attacks  \\\n",
       "0  [{'name': 'Second Strike', 'cost': ['Metal', '...   \n",
       "\n",
       "                                          cardmarket  convertedRetreatCost  \\\n",
       "0  {'url': 'https://prices.pokemontcg.io/cardmark...                   4.0   \n",
       "\n",
       "  evolvesFrom                                         flavorText     hp  \\\n",
       "0      Lairon  You can tell its age by the length of its iron...  140.0   \n",
       "\n",
       "        id  ...     rarity                            resistances  \\\n",
       "0  hgss4-1  ...  Rare Holo  [{'type': 'Psychic', 'value': '-20'}]   \n",
       "\n",
       "                                         retreatCost rules  \\\n",
       "0  ['Colorless', 'Colorless', 'Colorless', 'Color...   NaN   \n",
       "\n",
       "                                                 set     subtypes supertype  \\\n",
       "0  {'id': 'hgss4', 'images': {'symbol': 'https://...  ['Stage 2']   Pokémon   \n",
       "\n",
       "                                           tcgplayer      types  \\\n",
       "0  {'url': 'https://prices.pokemontcg.io/tcgplaye...  ['Metal']   \n",
       "\n",
       "                          weaknesses  \n",
       "0  [{'type': 'Fire', 'value': '×2'}]  \n",
       "\n",
       "[1 rows x 26 columns]"
      ]
     },
     "metadata": {},
     "output_type": "display_data"
    }
   ],
   "source": [
    "cards_df = pd.read_csv('cardsRaw.csv')\n",
    "\n",
    "attacks_data = []\n",
    "cardmarket_data = []\n",
    "small_images_data = []\n",
    "large_images_data = []\n",
    "resistances_data = []\n",
    "# legalities_data is already covered in set data\n",
    "for idx, row in cards_df.iterrows():\n",
    "\n",
    "\n"
   ]
  }
 ],
 "metadata": {
  "kernelspec": {
   "display_name": "Python 3",
   "language": "python",
   "name": "python3"
  },
  "language_info": {
   "codemirror_mode": {
    "name": "ipython",
    "version": 3
   },
   "file_extension": ".py",
   "mimetype": "text/x-python",
   "name": "python",
   "nbconvert_exporter": "python",
   "pygments_lexer": "ipython3",
   "version": "3.12.0"
  }
 },
 "nbformat": 4,
 "nbformat_minor": 5
}
