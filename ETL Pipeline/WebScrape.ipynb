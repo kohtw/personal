{
 "cells": [
  {
   "cell_type": "code",
   "execution_count": 1,
   "metadata": {},
   "outputs": [],
   "source": [
    "from selenium import webdriver\n",
    "from bs4 import BeautifulSoup\n",
    "import pandas as pd\n",
    "import time\n",
    "\n",
    "# Set up the Selenium WebDriver to simulate browser\n",
    "driver = webdriver.Chrome()\n",
    "driver.get(\"https://www.pricecharting.com/console/pokemon-japanese-scarlet-&-violet-151\")\n",
    "\n",
    "# Scroll to the bottom of the page multiple times to load all items\n",
    "SCROLL_PAUSE_TIME = 2\n",
    "last_height = driver.execute_script(\"return document.body.scrollHeight\")\n",
    "\n",
    "while True:\n",
    "    # Scroll down to bottom\n",
    "    driver.execute_script(\"window.scrollTo(0, document.body.scrollHeight);\")\n",
    "    \n",
    "    # Wait to load the new content\n",
    "    time.sleep(SCROLL_PAUSE_TIME)\n",
    "    \n",
    "    # Detect whether page has ended\n",
    "    new_height = driver.execute_script(\"return document.body.scrollHeight\")\n",
    "    if new_height == last_height:\n",
    "        break  # Break if no new content is loaded\n",
    "    last_height = new_height\n",
    "\n",
    "# Once the full content is loaded, parse the page with BeautifulSoup\n",
    "soup = BeautifulSoup(driver.page_source, \"html.parser\")\n",
    "driver.quit()\n",
    "\n",
    "# Scrape the data\n",
    "products = soup.findAll(\"tr\", {\"id\": lambda x: x and x.startswith(\"product-\")})"
   ]
  },
  {
   "cell_type": "code",
   "execution_count": 10,
   "metadata": {},
   "outputs": [
    {
     "data": {
      "application/vnd.microsoft.datawrangler.viewer.v0+json": {
       "columns": [
        {
         "name": "index",
         "rawType": "int64",
         "type": "integer"
        },
        {
         "name": "Title",
         "rawType": "object",
         "type": "string"
        },
        {
         "name": "Card Number",
         "rawType": "object",
         "type": "unknown"
        },
        {
         "name": "Price",
         "rawType": "float64",
         "type": "float"
        },
        {
         "name": "Variant",
         "rawType": "object",
         "type": "string"
        }
       ],
       "conversionMethod": "pd.DataFrame",
       "ref": "c698397a-5231-451c-b054-b5a432a35251",
       "rows": [
        [
         "0",
         "Charizard EX",
         "201",
         "186.73",
         "Normal"
        ],
        [
         "1",
         "Mew EX",
         "205",
         "70.5",
         "Normal"
        ],
        [
         "2",
         "Pikachu",
         "173",
         "10.0",
         "Normal"
        ],
        [
         "3",
         "Mewtwo",
         "183",
         "8.75",
         "Normal"
        ],
        [
         "4",
         "Charmander",
         "168",
         "14.08",
         "Normal"
        ],
        [
         "5",
         "Pikachu",
         "25",
         "149.75",
         "Master Ball"
        ],
        [
         "6",
         "Squirtle",
         "170",
         "10.0",
         "Normal"
        ],
        [
         "7",
         "Blastoise EX",
         "202",
         "66.48",
         "Normal"
        ],
        [
         "8",
         "Gengar",
         "94",
         "206.74",
         "Master Ball"
        ],
        [
         "9",
         "Charmeleon",
         "169",
         "8.06",
         "Normal"
        ],
        [
         "10",
         "Venusaur EX",
         "200",
         "61.0",
         "Normal"
        ],
        [
         "11",
         "Bulbasaur",
         "166",
         "9.5",
         "Normal"
        ],
        [
         "12",
         "Snorlax",
         "181",
         "5.66",
         "Normal"
        ],
        [
         "13",
         "Wartortle",
         "171",
         "7.99",
         "Normal"
        ],
        [
         "14",
         "Ivysaur",
         "167",
         "8.45",
         "Normal"
        ],
        [
         "15",
         "Erika's Invitation",
         "206",
         "51.39",
         "Normal"
        ],
        [
         "16",
         "Zapdos EX",
         "204",
         "53.11",
         "Normal"
        ],
        [
         "17",
         "Booster Box",
         "0",
         "153.43",
         "Normal"
        ],
        [
         "18",
         "Charizard EX",
         "185",
         "19.15",
         "Normal"
        ],
        [
         "19",
         "Dragonair",
         "182",
         "7.05",
         "Normal"
        ],
        [
         "20",
         "Psyduck",
         "175",
         "7.03",
         "Normal"
        ],
        [
         "21",
         "Alakazam EX",
         "203",
         "36.0",
         "Normal"
        ],
        [
         "22",
         "Charizard EX",
         "6",
         "2.42",
         "Normal"
        ],
        [
         "23",
         "Poliwhirl",
         "176",
         "6.5",
         "Normal"
        ],
        [
         "24",
         "Mewtwo",
         "150",
         "42.29",
         "Master Ball"
        ],
        [
         "25",
         "Machoke",
         "177",
         "3.79",
         "Normal"
        ],
        [
         "26",
         "Pikachu",
         "25",
         "3.98",
         "Reverse"
        ],
        [
         "27",
         "Mew EX",
         "151",
         "1.84",
         "Normal"
        ],
        [
         "28",
         "Nidoking",
         "174",
         "3.57",
         "Normal"
        ],
        [
         "29",
         "Erika's Invitation",
         "196",
         "12.9",
         "Normal"
        ],
        [
         "30",
         "Eevee",
         "133",
         "23.25",
         "Master Ball"
        ],
        [
         "31",
         "Mew EX",
         "208",
         "17.99",
         "Normal"
        ],
        [
         "32",
         "Vaporeon",
         "134",
         "23.51",
         "Master Ball"
        ],
        [
         "33",
         "Dragonite",
         "149",
         "52.24",
         "Master Ball"
        ],
        [
         "34",
         "Mr. Mime",
         "179",
         "2.49",
         "Normal"
        ],
        [
         "35",
         "Jolteon",
         "135",
         "23.22",
         "Master Ball"
        ],
        [
         "36",
         "Blastoise EX",
         "9",
         "2.24",
         "Normal"
        ],
        [
         "37",
         "Caterpie",
         "172",
         "3.48",
         "Normal"
        ],
        [
         "38",
         "Blastoise EX",
         "186",
         "8.77",
         "Normal"
        ],
        [
         "39",
         "Tangela",
         "178",
         "2.25",
         "Normal"
        ],
        [
         "40",
         "Mew EX",
         "195",
         "10.33",
         "Normal"
        ],
        [
         "41",
         "Giovanni's Charisma",
         "207",
         "25.0",
         "Normal"
        ],
        [
         "42",
         "Flareon",
         "136",
         "17.81",
         "Master Ball"
        ],
        [
         "43",
         "Omanyte",
         "180",
         "2.76",
         "Normal"
        ],
        [
         "44",
         "Charmander",
         "4",
         "33.68",
         "Master Ball"
        ],
        [
         "45",
         "Venusaur EX",
         "3",
         "1.88",
         "Normal"
        ],
        [
         "46",
         "Gengar",
         "94",
         "6.04",
         "Reverse"
        ],
        [
         "47",
         "Gengar",
         "94",
         "2.66",
         "Normal"
        ],
        [
         "48",
         "Mewtwo",
         "150",
         "1.75",
         "Normal"
        ],
        [
         "49",
         "Venusaur ex",
         "184",
         "7.91",
         "Normal"
        ]
       ],
       "shape": {
        "columns": 4,
        "rows": 519
       }
      },
      "text/html": [
       "<div>\n",
       "<style scoped>\n",
       "    .dataframe tbody tr th:only-of-type {\n",
       "        vertical-align: middle;\n",
       "    }\n",
       "\n",
       "    .dataframe tbody tr th {\n",
       "        vertical-align: top;\n",
       "    }\n",
       "\n",
       "    .dataframe thead th {\n",
       "        text-align: right;\n",
       "    }\n",
       "</style>\n",
       "<table border=\"1\" class=\"dataframe\">\n",
       "  <thead>\n",
       "    <tr style=\"text-align: right;\">\n",
       "      <th></th>\n",
       "      <th>Title</th>\n",
       "      <th>Card Number</th>\n",
       "      <th>Price</th>\n",
       "      <th>Variant</th>\n",
       "    </tr>\n",
       "  </thead>\n",
       "  <tbody>\n",
       "    <tr>\n",
       "      <th>0</th>\n",
       "      <td>Charizard EX</td>\n",
       "      <td>201</td>\n",
       "      <td>186.73</td>\n",
       "      <td>Normal</td>\n",
       "    </tr>\n",
       "    <tr>\n",
       "      <th>1</th>\n",
       "      <td>Mew EX</td>\n",
       "      <td>205</td>\n",
       "      <td>70.50</td>\n",
       "      <td>Normal</td>\n",
       "    </tr>\n",
       "    <tr>\n",
       "      <th>2</th>\n",
       "      <td>Pikachu</td>\n",
       "      <td>173</td>\n",
       "      <td>10.00</td>\n",
       "      <td>Normal</td>\n",
       "    </tr>\n",
       "    <tr>\n",
       "      <th>3</th>\n",
       "      <td>Mewtwo</td>\n",
       "      <td>183</td>\n",
       "      <td>8.75</td>\n",
       "      <td>Normal</td>\n",
       "    </tr>\n",
       "    <tr>\n",
       "      <th>4</th>\n",
       "      <td>Charmander</td>\n",
       "      <td>168</td>\n",
       "      <td>14.08</td>\n",
       "      <td>Normal</td>\n",
       "    </tr>\n",
       "    <tr>\n",
       "      <th>...</th>\n",
       "      <td>...</td>\n",
       "      <td>...</td>\n",
       "      <td>...</td>\n",
       "      <td>...</td>\n",
       "    </tr>\n",
       "    <tr>\n",
       "      <th>514</th>\n",
       "      <td>Cloyster</td>\n",
       "      <td>91</td>\n",
       "      <td>1.69</td>\n",
       "      <td>Normal</td>\n",
       "    </tr>\n",
       "    <tr>\n",
       "      <th>515</th>\n",
       "      <td>Gastly</td>\n",
       "      <td>92</td>\n",
       "      <td>1.65</td>\n",
       "      <td>Normal</td>\n",
       "    </tr>\n",
       "    <tr>\n",
       "      <th>516</th>\n",
       "      <td>Onix</td>\n",
       "      <td>95</td>\n",
       "      <td>1.60</td>\n",
       "      <td>Normal</td>\n",
       "    </tr>\n",
       "    <tr>\n",
       "      <th>517</th>\n",
       "      <td>Kingler</td>\n",
       "      <td>99</td>\n",
       "      <td>1.38</td>\n",
       "      <td>Normal</td>\n",
       "    </tr>\n",
       "    <tr>\n",
       "      <th>518</th>\n",
       "      <td>Pikachu</td>\n",
       "      <td>242/SV-P</td>\n",
       "      <td>NaN</td>\n",
       "      <td>Normal</td>\n",
       "    </tr>\n",
       "  </tbody>\n",
       "</table>\n",
       "<p>519 rows × 4 columns</p>\n",
       "</div>"
      ],
      "text/plain": [
       "            Title Card Number   Price Variant\n",
       "0    Charizard EX         201  186.73  Normal\n",
       "1          Mew EX         205   70.50  Normal\n",
       "2         Pikachu         173   10.00  Normal\n",
       "3          Mewtwo         183    8.75  Normal\n",
       "4      Charmander         168   14.08  Normal\n",
       "..            ...         ...     ...     ...\n",
       "514      Cloyster          91    1.69  Normal\n",
       "515        Gastly          92    1.65  Normal\n",
       "516          Onix          95    1.60  Normal\n",
       "517       Kingler          99    1.38  Normal\n",
       "518       Pikachu    242/SV-P     NaN  Normal\n",
       "\n",
       "[519 rows x 4 columns]"
      ]
     },
     "execution_count": 10,
     "metadata": {},
     "output_type": "execute_result"
    }
   ],
   "source": [
    "# Extract and store data\n",
    "data = []\n",
    "for product in products:\n",
    "    title_tag = product.find(\"td\", class_=\"title\")\n",
    "    title = title_tag.text.strip() if title_tag else \"No title found\"\n",
    "    \n",
    "    if \"#\" in title:\n",
    "        splitted = title.split(\"#\")\n",
    "        title = splitted[0].strip()\n",
    "        card_number = splitted[-1].strip()\n",
    "        \n",
    "    else:\n",
    "        card_number = 0\n",
    "        \n",
    "    if \"[\" in title:\n",
    "        splitted = title.split(\"[\")\n",
    "        variant = splitted[-1][:-1].strip()\n",
    "        title = splitted[0].strip()\n",
    "    else:\n",
    "        variant = \"Normal\"\n",
    "    \n",
    "    price_tag = product.find(\"span\", class_=\"js-price\").text.strip()\n",
    "    price = float(price_tag[1:]) if price_tag else None\n",
    "    \n",
    "    data.append({\"Title\": title, \"Card Number\": card_number, \"Price\": price, \"Variant\": variant})\n",
    "\n",
    "# Convert to DataFrame\n",
    "SV = pd.DataFrame(data)\n",
    "SV"
   ]
  }
 ],
 "metadata": {
  "kernelspec": {
   "display_name": "Python 3",
   "language": "python",
   "name": "python3"
  },
  "language_info": {
   "codemirror_mode": {
    "name": "ipython",
    "version": 3
   },
   "file_extension": ".py",
   "mimetype": "text/x-python",
   "name": "python",
   "nbconvert_exporter": "python",
   "pygments_lexer": "ipython3",
   "version": "3.10.11"
  }
 },
 "nbformat": 4,
 "nbformat_minor": 2
}
