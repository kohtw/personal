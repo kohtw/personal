{
 "cells": [
  {
   "cell_type": "markdown",
   "id": "3d096c6e",
   "metadata": {},
   "source": [
    "## Extract"
   ]
  },
  {
   "cell_type": "code",
   "execution_count": 13,
   "id": "2ed5eedb",
   "metadata": {},
   "outputs": [],
   "source": [
    "import os\n",
    "from dotenv import load_dotenv\n",
    "from pokemontcgsdk import RestClient, Card, Set\n",
    "import pandas as pd\n",
    "import requests\n",
    "import json\n",
    "import re\n",
    "import ast\n",
    "\n",
    "\n",
    "# Load .env variables\n",
    "load_dotenv()\n",
    "\n",
    "# Get the key from environment\n",
    "api_key = os.getenv('POKEMONTCG_API_KEY')\n",
    "\n",
    "# Configure RestClient\n",
    "RestClient.configure(api_key)"
   ]
  },
  {
   "cell_type": "code",
   "execution_count": null,
   "id": "72ac73aa",
   "metadata": {},
   "outputs": [
    {
     "name": "stdout",
     "output_type": "stream",
     "text": [
      "Number of sets_df: 165\n",
      "      id                                             images  \\\n",
      "0  base1  {'symbol': 'https://images.pokemontcg.io/base1...   \n",
      "1  base2  {'symbol': 'https://images.pokemontcg.io/base2...   \n",
      "2  basep  {'symbol': 'https://images.pokemontcg.io/basep...   \n",
      "3  base3  {'symbol': 'https://images.pokemontcg.io/base3...   \n",
      "4  base4  {'symbol': 'https://images.pokemontcg.io/base4...   \n",
      "\n",
      "                                          legalities  \\\n",
      "0  {'unlimited': 'Legal', 'expanded': None, 'stan...   \n",
      "1  {'unlimited': 'Legal', 'expanded': None, 'stan...   \n",
      "2  {'unlimited': 'Legal', 'expanded': None, 'stan...   \n",
      "3  {'unlimited': 'Legal', 'expanded': None, 'stan...   \n",
      "4  {'unlimited': 'Legal', 'expanded': None, 'stan...   \n",
      "\n",
      "                        name  printedTotal ptcgoCode releaseDate series  \\\n",
      "0                       Base           102        BS  1999/01/09   Base   \n",
      "1                     Jungle            64        JU  1999/06/16   Base   \n",
      "2  Wizards Black Star Promos            53        PR  1999/07/01   Base   \n",
      "3                     Fossil            62        FO  1999/10/10   Base   \n",
      "4                 Base Set 2           130        B2  2000/02/24   Base   \n",
      "\n",
      "   total            updatedAt  \n",
      "0    102  2022/10/10 15:12:00  \n",
      "1     64  2020/08/14 09:35:00  \n",
      "2     53  2020/08/14 09:35:00  \n",
      "3     62  2020/08/14 09:35:00  \n",
      "4    130  2022/10/10 15:12:00  \n"
     ]
    }
   ],
   "source": [
    "sets_df = Set.all()\n",
    "fields = Set.__match_args__\n",
    "\n",
    "# write the sets_df to a CSV file\n",
    "sets_df_df = pd.DataFrame(sets_df, columns=fields)\n",
    "sets_df_df.to_csv('setsRaw.csv', index=False)\n",
    "\n",
    "# Print the number of sets_df and the first few rows of the DataFrame\n",
    "print(f\"Number of sets_df: {len(sets_df_df)}\")\n",
    "print(sets_df_df.head())"
   ]
  },
  {
   "cell_type": "code",
   "execution_count": 15,
   "id": "0b17df2e",
   "metadata": {},
   "outputs": [],
   "source": [
    "cards = Card.all() # 11 minute request time"
   ]
  },
  {
   "cell_type": "code",
   "execution_count": null,
   "id": "b0940ac1",
   "metadata": {},
   "outputs": [],
   "source": [
    "fields = Card.__match_args__\n",
    "selected_fields = ['id', 'name', 'hp', 'types', 'attacks']\n",
    "\n",
    "# write the cards to a CSV file\n",
    "cards_df = pd.DataFrame(cards, columns=fields)\n",
    "cards_df.to_csv('cardsRaw.csv', index=False)\n",
    "\n",
    "# Print the number of cards and the first few rows of the DataFrame\n",
    "print(f\"Number of cards: {len(cards_df)}\")\n",
    "print(cards_df.head())"
   ]
  },
  {
   "cell_type": "markdown",
   "id": "71b50290",
   "metadata": {},
   "source": [
    "## Tranform"
   ]
  },
  {
   "cell_type": "code",
   "execution_count": null,
   "id": "27a809c3",
   "metadata": {},
   "outputs": [
    {
     "name": "stdout",
     "output_type": "stream",
     "text": [
      "id              object\n",
      "images          object\n",
      "legalities      object\n",
      "name            object\n",
      "printedTotal     int64\n",
      "ptcgoCode       object\n",
      "releaseDate     object\n",
      "series          object\n",
      "total            int64\n",
      "updatedAt       object\n",
      "dtype: object\n"
     ]
    }
   ],
   "source": [
    "# Set cleanining\n",
    "sets_df = pd.read_csv('setsRaw.csv')\n",
    "print(sets_df.dtypes)\n",
    "\n",
    "sets_df['images'] = sets_df['images'].apply(ast.literal_eval)\n",
    "sets_df['symbol_url'] = sets_df['images'].apply(lambda x: x.get('symbol'))\n",
    "sets_df['logo_url'] = sets_df['images'].apply(lambda x: x.get('logo'))\n",
    "\n",
    "sets_df['legalities'] = sets_df['legalities'].apply(ast.literal_eval)\n",
    "sets_df['standard'] = sets_df['legalities'].apply(lambda x: x.get('standard'))\n",
    "sets_df['expanded'] = sets_df['legalities'].apply(lambda x: x.get('expanded'))\n",
    "sets_df['unlimited'] = sets_df['legalities'].apply(lambda x: x.get('unlimited'))\n",
    "\n",
    "sets_df.drop(columns='images', inplace=True)\n",
    "sets_df.drop(columns='legalities', inplace=True)\n",
    "\n",
    "sets_df.to_csv('setsCleaned.csv', index=False)"
   ]
  },
  {
   "cell_type": "code",
   "execution_count": null,
   "id": "ce190afe",
   "metadata": {},
   "outputs": [
    {
     "name": "stdout",
     "output_type": "stream",
     "text": [
      "Index(['abilities', 'artist', 'ancientTrait', 'attacks', 'cardmarket',\n",
      "       'convertedRetreatCost', 'evolvesFrom', 'flavorText', 'hp', 'id',\n",
      "       'images', 'legalities', 'regulationMark', 'name',\n",
      "       'nationalPokedexNumbers', 'number', 'rarity', 'resistances',\n",
      "       'retreatCost', 'rules', 'set', 'subtypes', 'supertype', 'tcgplayer',\n",
      "       'types', 'weaknesses'],\n",
      "      dtype='object')\n"
     ]
    },
    {
     "ename": "AttributeError",
     "evalue": "'Series' object has no attribute 'columns'",
     "output_type": "error",
     "traceback": [
      "\u001b[1;31m---------------------------------------------------------------------------\u001b[0m",
      "\u001b[1;31mAttributeError\u001b[0m                            Traceback (most recent call last)",
      "\u001b[1;32m~\\AppData\\Local\\Temp\\ipykernel_14780\\3262315169.py\u001b[0m in \u001b[0;36m?\u001b[1;34m()\u001b[0m\n\u001b[0;32m      1\u001b[0m \u001b[1;31m# Data exploration to undersatnd how to clean the cards data\u001b[0m\u001b[1;33m\u001b[0m\u001b[1;33m\u001b[0m\u001b[0m\n\u001b[0;32m      2\u001b[0m \u001b[0mcards_df\u001b[0m \u001b[1;33m=\u001b[0m \u001b[0mpd\u001b[0m\u001b[1;33m.\u001b[0m\u001b[0mread_csv\u001b[0m\u001b[1;33m(\u001b[0m\u001b[1;34m'cardsRaw.csv'\u001b[0m\u001b[1;33m)\u001b[0m\u001b[1;33m\u001b[0m\u001b[1;33m\u001b[0m\u001b[0m\n\u001b[0;32m      3\u001b[0m \u001b[1;33m\u001b[0m\u001b[0m\n\u001b[0;32m      4\u001b[0m \u001b[0mprint\u001b[0m\u001b[1;33m(\u001b[0m\u001b[0mcards_df\u001b[0m\u001b[1;33m.\u001b[0m\u001b[0mcolumns\u001b[0m\u001b[1;33m)\u001b[0m\u001b[1;33m\u001b[0m\u001b[1;33m\u001b[0m\u001b[0m\n\u001b[1;32m----> 5\u001b[1;33m \u001b[0mprint\u001b[0m\u001b[1;33m(\u001b[0m\u001b[0mcards_df\u001b[0m\u001b[1;33m[\u001b[0m\u001b[1;34m'abilities'\u001b[0m\u001b[1;33m]\u001b[0m\u001b[1;33m.\u001b[0m\u001b[0mcolumns\u001b[0m\u001b[1;33m)\u001b[0m\u001b[1;33m\u001b[0m\u001b[1;33m\u001b[0m\u001b[0m\n\u001b[0m",
      "\u001b[1;32mc:\\Users\\tingw\\AppData\\Local\\Programs\\Python\\Python312\\Lib\\site-packages\\pandas\\core\\generic.py\u001b[0m in \u001b[0;36m?\u001b[1;34m(self, name)\u001b[0m\n\u001b[0;32m   6295\u001b[0m             \u001b[1;32mand\u001b[0m \u001b[0mname\u001b[0m \u001b[1;32mnot\u001b[0m \u001b[1;32min\u001b[0m \u001b[0mself\u001b[0m\u001b[1;33m.\u001b[0m\u001b[0m_accessors\u001b[0m\u001b[1;33m\u001b[0m\u001b[1;33m\u001b[0m\u001b[0m\n\u001b[0;32m   6296\u001b[0m             \u001b[1;32mand\u001b[0m \u001b[0mself\u001b[0m\u001b[1;33m.\u001b[0m\u001b[0m_info_axis\u001b[0m\u001b[1;33m.\u001b[0m\u001b[0m_can_hold_identifiers_and_holds_name\u001b[0m\u001b[1;33m(\u001b[0m\u001b[0mname\u001b[0m\u001b[1;33m)\u001b[0m\u001b[1;33m\u001b[0m\u001b[1;33m\u001b[0m\u001b[0m\n\u001b[0;32m   6297\u001b[0m         \u001b[1;33m)\u001b[0m\u001b[1;33m:\u001b[0m\u001b[1;33m\u001b[0m\u001b[1;33m\u001b[0m\u001b[0m\n\u001b[0;32m   6298\u001b[0m             \u001b[1;32mreturn\u001b[0m \u001b[0mself\u001b[0m\u001b[1;33m[\u001b[0m\u001b[0mname\u001b[0m\u001b[1;33m]\u001b[0m\u001b[1;33m\u001b[0m\u001b[1;33m\u001b[0m\u001b[0m\n\u001b[1;32m-> 6299\u001b[1;33m         \u001b[1;32mreturn\u001b[0m \u001b[0mobject\u001b[0m\u001b[1;33m.\u001b[0m\u001b[0m__getattribute__\u001b[0m\u001b[1;33m(\u001b[0m\u001b[0mself\u001b[0m\u001b[1;33m,\u001b[0m \u001b[0mname\u001b[0m\u001b[1;33m)\u001b[0m\u001b[1;33m\u001b[0m\u001b[1;33m\u001b[0m\u001b[0m\n\u001b[0m",
      "\u001b[1;31mAttributeError\u001b[0m: 'Series' object has no attribute 'columns'"
     ]
    }
   ],
   "source": [
    "# Data exploration to undersatnd how to clean the cards data\n",
    "cards_df = pd.read_csv('cardsRaw.csv')"
   ]
  },
  {
   "cell_type": "code",
   "execution_count": null,
   "id": "c35ae060",
   "metadata": {},
   "outputs": [
    {
     "data": {
      "application/vnd.microsoft.datawrangler.viewer.v0+json": {
       "columns": [
        {
         "name": "index",
         "rawType": "int64",
         "type": "integer"
        },
        {
         "name": "abilities",
         "rawType": "object",
         "type": "unknown"
        },
        {
         "name": "artist",
         "rawType": "object",
         "type": "string"
        },
        {
         "name": "ancientTrait",
         "rawType": "object",
         "type": "unknown"
        },
        {
         "name": "attacks",
         "rawType": "object",
         "type": "string"
        },
        {
         "name": "cardmarket",
         "rawType": "object",
         "type": "string"
        },
        {
         "name": "convertedRetreatCost",
         "rawType": "float64",
         "type": "float"
        },
        {
         "name": "evolvesFrom",
         "rawType": "object",
         "type": "string"
        },
        {
         "name": "flavorText",
         "rawType": "object",
         "type": "string"
        },
        {
         "name": "hp",
         "rawType": "float64",
         "type": "float"
        },
        {
         "name": "id",
         "rawType": "object",
         "type": "string"
        },
        {
         "name": "images",
         "rawType": "object",
         "type": "string"
        },
        {
         "name": "legalities",
         "rawType": "object",
         "type": "string"
        },
        {
         "name": "regulationMark",
         "rawType": "object",
         "type": "unknown"
        },
        {
         "name": "name",
         "rawType": "object",
         "type": "string"
        },
        {
         "name": "nationalPokedexNumbers",
         "rawType": "object",
         "type": "string"
        },
        {
         "name": "number",
         "rawType": "object",
         "type": "string"
        },
        {
         "name": "rarity",
         "rawType": "object",
         "type": "string"
        },
        {
         "name": "resistances",
         "rawType": "object",
         "type": "string"
        },
        {
         "name": "retreatCost",
         "rawType": "object",
         "type": "string"
        },
        {
         "name": "rules",
         "rawType": "object",
         "type": "unknown"
        },
        {
         "name": "set",
         "rawType": "object",
         "type": "string"
        },
        {
         "name": "subtypes",
         "rawType": "object",
         "type": "string"
        },
        {
         "name": "supertype",
         "rawType": "object",
         "type": "string"
        },
        {
         "name": "tcgplayer",
         "rawType": "object",
         "type": "string"
        },
        {
         "name": "types",
         "rawType": "object",
         "type": "string"
        },
        {
         "name": "weaknesses",
         "rawType": "object",
         "type": "string"
        }
       ],
       "conversionMethod": "pd.DataFrame",
       "ref": "73dbc8bf-ee61-4529-a674-445890f430f6",
       "rows": [
        [
         "0",
         null,
         "Kagemaru Himeno",
         null,
         "[{'name': 'Second Strike', 'cost': ['Metal', 'Metal', 'Colorless'], 'convertedEnergyCost': 3, 'damage': '40', 'text': 'If the Defending Pokémon already has any damage counters on it, this attack does 40 damage plus 40 more damage.'}, {'name': 'Guard Claw', 'cost': ['Metal', 'Metal', 'Colorless', 'Colorless'], 'convertedEnergyCost': 4, 'damage': '60', 'text': \"During your opponent's next turn, any damage done to Aggron by attacks is reduced by 20 (after applying Weakness and Resistance).\"}]",
         "{'url': 'https://prices.pokemontcg.io/cardmarket/hgss4-1', 'updatedAt': '2025/04/18', 'prices': {'averageSellPrice': 1.83, 'lowPrice': 0.4, 'trendPrice': 1.33, 'germanProLow': 0.0, 'suggestedPrice': 0.0, 'reverseHoloSell': 1.75, 'reverseHoloLow': 0.85, 'reverseHoloTrend': 3.52, 'lowPriceExPlus': 1.0, 'avg1': 1.99, 'avg7': 1.75, 'avg30': 2.04, 'reverseHoloAvg1': 1.49, 'reverseHoloAvg7': 2.54, 'reverseHoloAvg30': 3.49}}",
         "4.0",
         "Lairon",
         "You can tell its age by the length of its iron horns. It claims an entire mountain as its territory.",
         "140.0",
         "hgss4-1",
         "{'small': 'https://images.pokemontcg.io/hgss4/1.png', 'large': 'https://images.pokemontcg.io/hgss4/1_hires.png'}",
         "{'unlimited': 'Legal', 'expanded': None, 'standard': None}",
         null,
         "Aggron",
         "[306]",
         "1",
         "Rare Holo",
         "[{'type': 'Psychic', 'value': '-20'}]",
         "['Colorless', 'Colorless', 'Colorless', 'Colorless']",
         null,
         "{'id': 'hgss4', 'images': {'symbol': 'https://images.pokemontcg.io/hgss4/symbol.png', 'logo': 'https://images.pokemontcg.io/hgss4/logo.png'}, 'legalities': {'unlimited': 'Legal', 'expanded': None, 'standard': None}, 'name': 'HS—Triumphant', 'printedTotal': 102, 'ptcgoCode': 'TM', 'releaseDate': '2010/11/03', 'series': 'HeartGold & SoulSilver', 'total': 103, 'updatedAt': '2018/03/04 10:35:00'}",
         "['Stage 2']",
         "Pokémon",
         "{'url': 'https://prices.pokemontcg.io/tcgplayer/hgss4-1', 'updatedAt': '2025/04/18', 'prices': {'normal': None, 'holofoil': {'low': 2.0, 'mid': 2.99, 'high': 4.0, 'market': 2.32, 'directLow': None}, 'reverseHolofoil': {'low': 2.1, 'mid': 3.53, 'high': 4.0, 'market': 2.35, 'directLow': None}, 'firstEditionHolofoil': None, 'firstEditionNormal': None}}",
         "['Metal']",
         "[{'type': 'Fire', 'value': '×2'}]"
        ]
       ],
       "shape": {
        "columns": 26,
        "rows": 1
       }
      },
      "text/html": [
       "<div>\n",
       "<style scoped>\n",
       "    .dataframe tbody tr th:only-of-type {\n",
       "        vertical-align: middle;\n",
       "    }\n",
       "\n",
       "    .dataframe tbody tr th {\n",
       "        vertical-align: top;\n",
       "    }\n",
       "\n",
       "    .dataframe thead th {\n",
       "        text-align: right;\n",
       "    }\n",
       "</style>\n",
       "<table border=\"1\" class=\"dataframe\">\n",
       "  <thead>\n",
       "    <tr style=\"text-align: right;\">\n",
       "      <th></th>\n",
       "      <th>abilities</th>\n",
       "      <th>artist</th>\n",
       "      <th>ancientTrait</th>\n",
       "      <th>attacks</th>\n",
       "      <th>cardmarket</th>\n",
       "      <th>convertedRetreatCost</th>\n",
       "      <th>evolvesFrom</th>\n",
       "      <th>flavorText</th>\n",
       "      <th>hp</th>\n",
       "      <th>id</th>\n",
       "      <th>...</th>\n",
       "      <th>rarity</th>\n",
       "      <th>resistances</th>\n",
       "      <th>retreatCost</th>\n",
       "      <th>rules</th>\n",
       "      <th>set</th>\n",
       "      <th>subtypes</th>\n",
       "      <th>supertype</th>\n",
       "      <th>tcgplayer</th>\n",
       "      <th>types</th>\n",
       "      <th>weaknesses</th>\n",
       "    </tr>\n",
       "  </thead>\n",
       "  <tbody>\n",
       "    <tr>\n",
       "      <th>0</th>\n",
       "      <td>NaN</td>\n",
       "      <td>Kagemaru Himeno</td>\n",
       "      <td>NaN</td>\n",
       "      <td>[{'name': 'Second Strike', 'cost': ['Metal', '...</td>\n",
       "      <td>{'url': 'https://prices.pokemontcg.io/cardmark...</td>\n",
       "      <td>4.0</td>\n",
       "      <td>Lairon</td>\n",
       "      <td>You can tell its age by the length of its iron...</td>\n",
       "      <td>140.0</td>\n",
       "      <td>hgss4-1</td>\n",
       "      <td>...</td>\n",
       "      <td>Rare Holo</td>\n",
       "      <td>[{'type': 'Psychic', 'value': '-20'}]</td>\n",
       "      <td>['Colorless', 'Colorless', 'Colorless', 'Color...</td>\n",
       "      <td>NaN</td>\n",
       "      <td>{'id': 'hgss4', 'images': {'symbol': 'https://...</td>\n",
       "      <td>['Stage 2']</td>\n",
       "      <td>Pokémon</td>\n",
       "      <td>{'url': 'https://prices.pokemontcg.io/tcgplaye...</td>\n",
       "      <td>['Metal']</td>\n",
       "      <td>[{'type': 'Fire', 'value': '×2'}]</td>\n",
       "    </tr>\n",
       "  </tbody>\n",
       "</table>\n",
       "<p>1 rows × 26 columns</p>\n",
       "</div>"
      ],
      "text/plain": [
       "  abilities           artist ancientTrait  \\\n",
       "0       NaN  Kagemaru Himeno          NaN   \n",
       "\n",
       "                                             attacks  \\\n",
       "0  [{'name': 'Second Strike', 'cost': ['Metal', '...   \n",
       "\n",
       "                                          cardmarket  convertedRetreatCost  \\\n",
       "0  {'url': 'https://prices.pokemontcg.io/cardmark...                   4.0   \n",
       "\n",
       "  evolvesFrom                                         flavorText     hp  \\\n",
       "0      Lairon  You can tell its age by the length of its iron...  140.0   \n",
       "\n",
       "        id  ...     rarity                            resistances  \\\n",
       "0  hgss4-1  ...  Rare Holo  [{'type': 'Psychic', 'value': '-20'}]   \n",
       "\n",
       "                                         retreatCost rules  \\\n",
       "0  ['Colorless', 'Colorless', 'Colorless', 'Color...   NaN   \n",
       "\n",
       "                                                 set     subtypes supertype  \\\n",
       "0  {'id': 'hgss4', 'images': {'symbol': 'https://...  ['Stage 2']   Pokémon   \n",
       "\n",
       "                                           tcgplayer      types  \\\n",
       "0  {'url': 'https://prices.pokemontcg.io/tcgplaye...  ['Metal']   \n",
       "\n",
       "                          weaknesses  \n",
       "0  [{'type': 'Fire', 'value': '×2'}]  \n",
       "\n",
       "[1 rows x 26 columns]"
      ]
     },
     "execution_count": 6,
     "metadata": {},
     "output_type": "execute_result"
    }
   ],
   "source": [
    "cards_df = pd.read_csv('cardsRaw.csv')\n",
    "\n",
    "attacks_data = []\n",
    "cardmarket_data = []\n",
    "small_images_data = []\n",
    "large_images_data = []\n",
    "resistances_data = []\n",
    "# legalities_data is already covered in set data\n",
    "for idx, row in cards_df.iterrows():"
   ]
  },
  {
   "cell_type": "code",
   "execution_count": null,
   "id": "12037fa7",
   "metadata": {},
   "outputs": [],
   "source": [
    "# Card image download\n",
    "\n",
    "\n",
    "def sanitize_filename(name):\n",
    "    return re.sub(r'[\\\\/*?:\"<>|]', \"\", name)\n",
    "\n",
    "sets_download = []\n",
    "\n",
    "#filter for cards where the set starts with 'sv'\n",
    "cards_df = cards_df[cards_df['set'].str.startswith('sv')]\n",
    "for idx, row in cards_df.iterrows():\n",
    "    if row['images'] == 'None':\n",
    "        continue\n",
    "    images = ast.literal_eval(row['images'])\n",
    "    image_url = images.get('small')\n",
    "    if image_url is None:\n",
    "        continue\n",
    "    image_name = sanitize_filename(row['name'])\n",
    "    image_name = f\"{image_name}_{row['id']}.jpg\"\n",
    "    image_path = os.path.join('images', image_name)\n",
    "    if not os.path.exists(image_path):\n",
    "        try:\n",
    "            response = requests.get(image_url, stream=True)\n",
    "            if response.status_code == 200:\n",
    "                with open(image_path, 'wb') as f:\n",
    "                    for chunk in response.iter_content(1024):\n",
    "                        f.write(chunk)\n",
    "                print(f\"Downloaded {image_name}\")\n",
    "            else:\n",
    "                print(f\"Failed to download {image_name}: {response.status_code}\")\n",
    "        except Exception as e:\n",
    "            print(f\"Error downloading {image_name}: {e}\")\n",
    "    else:\n",
    "        print(f\"{image_name} already exists, skipping download.\")"
   ]
  },
  {
   "cell_type": "code",
   "execution_count": 29,
   "id": "907cfc8f",
   "metadata": {},
   "outputs": [
    {
     "name": "stdout",
     "output_type": "stream",
     "text": [
      "Hashes have been saved to Pickle format.\n"
     ]
    }
   ],
   "source": [
    "import os\n",
    "import imagehash\n",
    "from PIL import Image\n",
    "import pickle\n",
    "\n",
    "# Function to hash an image\n",
    "def hash_image(image_path):\n",
    "    with Image.open(image_path) as img:\n",
    "        return imagehash.phash(img)\n",
    "\n",
    "# Folder containing the images\n",
    "folder_path = \"images\"\n",
    "image_hashes = {}\n",
    "\n",
    "# Hash all images in the folder\n",
    "for filename in os.listdir(folder_path):\n",
    "    if filename.lower().endswith(('.jpg', '.jpeg', '.png')):\n",
    "        image_path = os.path.join(folder_path, filename)\n",
    "        image_hash = hash_image(image_path)\n",
    "        image_hashes[filename] = image_hash\n",
    "\n",
    "# Save image hashes to Pickle file\n",
    "with open('image_hashes.pkl', mode='wb') as file:\n",
    "    pickle.dump(image_hashes, file)\n",
    "\n",
    "print(\"Hashes have been saved to Pickle format.\")\n"
   ]
  }
 ],
 "metadata": {
  "kernelspec": {
   "display_name": "Python 3",
   "language": "python",
   "name": "python3"
  },
  "language_info": {
   "codemirror_mode": {
    "name": "ipython",
    "version": 3
   },
   "file_extension": ".py",
   "mimetype": "text/x-python",
   "name": "python",
   "nbconvert_exporter": "python",
   "pygments_lexer": "ipython3",
   "version": "3.12.0"
  }
 },
 "nbformat": 4,
 "nbformat_minor": 5
}
